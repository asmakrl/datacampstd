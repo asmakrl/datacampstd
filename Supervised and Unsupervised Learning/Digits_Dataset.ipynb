{
  "cells": [
    {
      "cell_type": "code",
      "execution_count": 1,
      "metadata": {
        "id": "KZrPCGETLvyB"
      },
      "outputs": [],
      "source": [
        "from sklearn.datasets import load_digits\n",
        "import pandas as pd\n",
        "import numpy as np\n",
        "import matplotlib.pyplot as plt\n",
        "import seaborn as sns\n",
        "from sklearn.neighbors import KNeighborsClassifier\n",
        "from sklearn.model_selection import train_test_split,GridSearchCV\n",
        "from sklearn.metrics import classification_report, confusion_matrix\n",
        "from sklearn.preprocessing import StandardScaler\n",
        "from sklearn.pipeline import Pipeline\n",
        "from sklearn.manifold import TSNE"
      ]
    },
    {
      "cell_type": "code",
      "execution_count": 2,
      "metadata": {
        "colab": {
          "base_uri": "https://localhost:8080/"
        },
        "id": "nw6GvPFGLyHS",
        "outputId": "a08784d9-904e-40ae-9726-34107dfd5509"
      },
      "outputs": [
        {
          "output_type": "stream",
          "name": "stdout",
          "text": [
            "<class 'sklearn.utils.Bunch'>\n"
          ]
        }
      ],
      "source": [
        "digits = load_digits()\n",
        "print(type(digits))"
      ]
    },
    {
      "cell_type": "markdown",
      "metadata": {
        "id": "zDXw33pYMHaj"
      },
      "source": [
        "Bunch: Similar to a dict, it contains key-value pairs."
      ]
    },
    {
      "cell_type": "code",
      "execution_count": 3,
      "metadata": {
        "colab": {
          "base_uri": "https://localhost:8080/"
        },
        "id": "4Ch4z7G5M38M",
        "outputId": "f4191742-1cac-4898-d473-b919ea84cf70"
      },
      "outputs": [
        {
          "output_type": "stream",
          "name": "stdout",
          "text": [
            "dict_keys(['data', 'target', 'frame', 'feature_names', 'target_names', 'images', 'DESCR'])\n"
          ]
        }
      ],
      "source": [
        "print(digits.keys())"
      ]
    },
    {
      "cell_type": "code",
      "execution_count": 4,
      "metadata": {
        "colab": {
          "base_uri": "https://localhost:8080/"
        },
        "id": "CDCG5zy_MPr9",
        "outputId": "a18aa112-4e27-434e-b636-4f0390265867"
      },
      "outputs": [
        {
          "output_type": "execute_result",
          "data": {
            "text/plain": [
              "array([0, 4, 1, 7, 4, 8, 2, 2, 4, 4, 1, 9, 7, 3, 2, 1, 2, 5])"
            ]
          },
          "metadata": {},
          "execution_count": 4
        }
      ],
      "source": [
        "digits.target[::100]"
      ]
    },
    {
      "cell_type": "code",
      "execution_count": 5,
      "metadata": {
        "colab": {
          "base_uri": "https://localhost:8080/"
        },
        "id": "wLLe2QNEMjc0",
        "outputId": "cb176876-a16b-405f-83d9-cc65c7481f05"
      },
      "outputs": [
        {
          "output_type": "execute_result",
          "data": {
            "text/plain": [
              "(1797, 64)"
            ]
          },
          "metadata": {},
          "execution_count": 5
        }
      ],
      "source": [
        "digits.data.shape"
      ]
    },
    {
      "cell_type": "code",
      "execution_count": 6,
      "metadata": {
        "colab": {
          "base_uri": "https://localhost:8080/"
        },
        "id": "UA6tDjE9MlPX",
        "outputId": "d96bf0e9-2028-4576-d437-825d03aba079"
      },
      "outputs": [
        {
          "output_type": "execute_result",
          "data": {
            "text/plain": [
              "(1797,)"
            ]
          },
          "metadata": {},
          "execution_count": 6
        }
      ],
      "source": [
        "digits.target.shape"
      ]
    },
    {
      "cell_type": "code",
      "execution_count": 7,
      "metadata": {
        "colab": {
          "base_uri": "https://localhost:8080/"
        },
        "id": "-YgFExXuMx9G",
        "outputId": "84572009-8d73-468e-8616-0c155a1e0970"
      },
      "outputs": [
        {
          "output_type": "execute_result",
          "data": {
            "text/plain": [
              "array([[ 0.,  2.,  9., 15., 14.,  9.,  3.,  0.],\n",
              "       [ 0.,  4., 13.,  8.,  9., 16.,  8.,  0.],\n",
              "       [ 0.,  0.,  0.,  6., 14., 15.,  3.,  0.],\n",
              "       [ 0.,  0.,  0., 11., 14.,  2.,  0.,  0.],\n",
              "       [ 0.,  0.,  0.,  2., 15., 11.,  0.,  0.],\n",
              "       [ 0.,  0.,  0.,  0.,  2., 15.,  4.,  0.],\n",
              "       [ 0.,  1.,  5.,  6., 13., 16.,  6.,  0.],\n",
              "       [ 0.,  2., 12., 12., 13., 11.,  0.,  0.]])"
            ]
          },
          "metadata": {},
          "execution_count": 7
        }
      ],
      "source": [
        "digits.images[13]\n"
      ]
    },
    {
      "cell_type": "code",
      "execution_count": 8,
      "metadata": {
        "colab": {
          "base_uri": "https://localhost:8080/"
        },
        "id": "HYqltE_5PN0T",
        "outputId": "a7e627b5-de62-4a1c-8acb-54d4db301121"
      },
      "outputs": [
        {
          "output_type": "execute_result",
          "data": {
            "text/plain": [
              "array([ 0.,  2.,  9., 15., 14.,  9.,  3.,  0.,  0.,  4., 13.,  8.,  9.,\n",
              "       16.,  8.,  0.,  0.,  0.,  0.,  6., 14., 15.,  3.,  0.,  0.,  0.,\n",
              "        0., 11., 14.,  2.,  0.,  0.,  0.,  0.,  0.,  2., 15., 11.,  0.,\n",
              "        0.,  0.,  0.,  0.,  0.,  2., 15.,  4.,  0.,  0.,  1.,  5.,  6.,\n",
              "       13., 16.,  6.,  0.,  0.,  2., 12., 12., 13., 11.,  0.,  0.])"
            ]
          },
          "metadata": {},
          "execution_count": 8
        }
      ],
      "source": [
        "digits.data[13]"
      ]
    },
    {
      "cell_type": "code",
      "execution_count": 9,
      "metadata": {
        "colab": {
          "base_uri": "https://localhost:8080/",
          "height": 265
        },
        "id": "2x8knadnPtG-",
        "outputId": "7f21b074-39a9-463f-891b-efc1189b684d"
      },
      "outputs": [
        {
          "output_type": "display_data",
          "data": {
            "image/png": "[encoded data removed]",
            "text/plain": [
              "<Figure size 432x288 with 1 Axes>"
            ]
          },
          "metadata": {
            "needs_background": "light"
          }
        }
      ],
      "source": [
        "plt.imshow(digits.images[13],cmap=plt.cm.gray_r, interpolation='nearest')\n",
        "plt.show()"
      ]
    },
    {
      "cell_type": "markdown",
      "metadata": {
        "id": "ifusszzFSAKG"
      },
      "source": [
        "Recall that NumPy array method ravel creates a one­dimensional view of a\n",
        "multidimensional array. Also, recall that zip produces tuples containing elements from\n",
        "the same index in each of zip’s arguments and that the argument with the fewest\n",
        "elements determines how many tuples zip returns.\n",
        "Each iteration of the loop:\n",
        "Unpacks one tuple from the zipped items into three variables representing the\n",
        "Axes object, image and target value.\n",
        "Calls the Axes object’s imshow method to display one image. The keyword\n",
        "argument cmap=plt.cm.gray_r determines the colors displayed in the image.\n",
        "The value plt.cm.gray_r is a color map—a group of colors that are typically\n",
        "chosen to work well together. This particular color map enables us to display the\n",
        "image’s pixels in grayscale, with 0 as white, 16 as black and the values in between as\n",
        "gradually darkening shades of gray"
      ]
    },
    {
      "cell_type": "markdown",
      "metadata": {
        "id": "1BATipeRSKPo"
      },
      "source": [
        "Calls the Axes object’s set_xticks and set_yticks methods with empty lists to\n",
        "indicate that the x­ and y­axes should not have tick marks.\n",
        "Calls the Axes object’s set_title method to display the target value above the\n",
        "image—this shows the actual value that the image represents.\n",
        "After the loop, we call tight_layout to remove the extra whitespace at the Figure’s\n",
        "top, right, bottom and left, so the rows and columns of digit images can fill more of the\n",
        "Figure."
      ]
    },
    {
      "cell_type": "code",
      "execution_count": 10,
      "metadata": {
        "colab": {
          "base_uri": "https://localhost:8080/",
          "height": 281
        },
        "id": "PwqP4rQfRAcr",
        "outputId": "7dc40b57-4540-46e5-b76f-85acf8b4c732"
      },
      "outputs": [
        {
          "output_type": "display_data",
          "data": {
            "image/png": "[encoded data removed]",
            "text/plain": [
              "<Figure size 432x288 with 24 Axes>"
            ]
          },
          "metadata": {
            "needs_background": "light"
          }
        }
      ],
      "source": [
        "figure, axes = plt.subplots(nrows=4, ncols=6, figsize=(6, 4))\n",
        "for item in zip(axes.ravel(), digits.images, digits.target):\n",
        "  axes, image, target = item\n",
        "  axes.imshow(image, cmap=plt.cm.gray_r)\n",
        "  #axes.set_xticks([]) # remove x­axis tick marks\n",
        "  #axes.set_yticks([]) # remove y­axis tick marks\n",
        "  axes.set_title(target)\n",
        "plt.show()"
      ]
    },
    {
      "cell_type": "code",
      "execution_count": 11,
      "metadata": {
        "id": "AUQv2a03S19M"
      },
      "outputs": [],
      "source": [
        "X = np.array(digits.data)\n",
        "y = np.array(digits.target)"
      ]
    },
    {
      "cell_type": "code",
      "execution_count": 12,
      "metadata": {
        "colab": {
          "base_uri": "https://localhost:8080/"
        },
        "id": "pvWACQAfqExg",
        "outputId": "78d0f03a-86a4-437d-fa91-3c83212fd133"
      },
      "outputs": [
        {
          "output_type": "stream",
          "name": "stderr",
          "text": [
            "/usr/local/lib/python3.7/dist-packages/sklearn/manifold/_t_sne.py:783: FutureWarning: The default initialization in TSNE will change from 'random' to 'pca' in 1.2.\n",
            "  FutureWarning,\n",
            "/usr/local/lib/python3.7/dist-packages/sklearn/manifold/_t_sne.py:793: FutureWarning: The default learning rate in TSNE will change from 200.0 to 'auto' in 1.2.\n",
            "  FutureWarning,\n"
          ]
        },
        {
          "output_type": "execute_result",
          "data": {
            "text/plain": [
              "(1797, 2)"
            ]
          },
          "metadata": {},
          "execution_count": 12
        }
      ],
      "source": [
        "n_components = 2\n",
        "model = TSNE(n_components)\n",
        "transformed = model.fit_transform(X)\n",
        "transformed.shape"
      ]
    },
    {
      "cell_type": "code",
      "execution_count": 13,
      "metadata": {
        "colab": {
          "base_uri": "https://localhost:8080/",
          "height": 269
        },
        "id": "ZUqNvVRhqLZM",
        "outputId": "787ac2b5-78fd-480a-9124-b179f4e0c4b8"
      },
      "outputs": [
        {
          "output_type": "display_data",
          "data": {
            "image/png": "[encoded data removed]",
            "text/plain": [
              "<Figure size 432x288 with 2 Axes>"
            ]
          },
          "metadata": {
            "needs_background": "light"
          }
        }
      ],
      "source": [
        "xs = transformed[:,0]\n",
        "ys = transformed[:,1]\n",
        "dots = plt.scatter(xs, ys,c=y)\n",
        "colorbar = plt.colorbar(dots)"
      ]
    },
    {
      "cell_type": "code",
      "execution_count": 14,
      "metadata": {
        "id": "XoiTsxM7g7eW"
      },
      "outputs": [],
      "source": [
        "steps = [\n",
        "         ('scaler',StandardScaler()),\n",
        "         ('knn',KNeighborsClassifier())]\n",
        "pipeline = Pipeline(steps)\n",
        "parameters = { 'knn__n_neighbors':np.arange(1,50)}"
      ]
    },
    {
      "cell_type": "code",
      "execution_count": 15,
      "metadata": {
        "id": "imaFuE4CRypU"
      },
      "outputs": [],
      "source": [
        "X_train, X_test, y_train, y_test = train_test_split(transformed, y, test_size=0.3, random_state=11)\n",
        "cv = GridSearchCV(pipeline,param_grid=parameters,cv=5)"
      ]
    },
    {
      "cell_type": "code",
      "execution_count": 16,
      "metadata": {
        "colab": {
          "base_uri": "https://localhost:8080/"
        },
        "id": "6I1WeAyGTevM",
        "outputId": "d19f7fa1-ce01-452b-8c41-e46200c1d015"
      },
      "outputs": [
        {
          "output_type": "execute_result",
          "data": {
            "text/plain": [
              "(1257, 2)"
            ]
          },
          "metadata": {},
          "execution_count": 16
        }
      ],
      "source": [
        "X_train.shape"
      ]
    },
    {
      "cell_type": "code",
      "execution_count": 17,
      "metadata": {
        "colab": {
          "base_uri": "https://localhost:8080/"
        },
        "id": "emZvZ4mwTk6t",
        "outputId": "a04b4e0c-5daa-4791-e995-2966b25bf350"
      },
      "outputs": [
        {
          "output_type": "execute_result",
          "data": {
            "text/plain": [
              "(540, 2)"
            ]
          },
          "metadata": {},
          "execution_count": 17
        }
      ],
      "source": [
        "X_test.shape"
      ]
    },
    {
      "cell_type": "code",
      "execution_count": 18,
      "metadata": {
        "colab": {
          "base_uri": "https://localhost:8080/"
        },
        "id": "jCxiveNFgpn9",
        "outputId": "71742046-dfae-46d7-d583-887278774d45"
      },
      "outputs": [
        {
          "output_type": "execute_result",
          "data": {
            "text/plain": [
              "GridSearchCV(cv=5,\n",
              "             estimator=Pipeline(steps=[('scaler', StandardScaler()),\n",
              "                                       ('knn', KNeighborsClassifier())]),\n",
              "             param_grid={'knn__n_neighbors': array([ 1,  2,  3,  4,  5,  6,  7,  8,  9, 10, 11, 12, 13, 14, 15, 16, 17,\n",
              "       18, 19, 20, 21, 22, 23, 24, 25, 26, 27, 28, 29, 30, 31, 32, 33, 34,\n",
              "       35, 36, 37, 38, 39, 40, 41, 42, 43, 44, 45, 46, 47, 48, 49])})"
            ]
          },
          "metadata": {},
          "execution_count": 18
        }
      ],
      "source": [
        "cv.fit(X_train,y_train)"
      ]
    },
    {
      "cell_type": "code",
      "execution_count": 19,
      "metadata": {
        "id": "PYZunTrOiGN8"
      },
      "outputs": [],
      "source": [
        "y_pred = cv.predict(X_test)"
      ]
    },
    {
      "cell_type": "code",
      "execution_count": null,
      "metadata": {
        "colab": {
          "base_uri": "https://localhost:8080/"
        },
        "id": "3cgK5IlriRMT",
        "outputId": "3da8915a-4979-4653-a9a4-14c7638c8b04"
      },
      "outputs": [
        {
          "output_type": "stream",
          "name": "stdout",
          "text": [
            "{'knn__n_neighbors': 4}\n"
          ]
        }
      ],
      "source": [
        "print(cv.best_params_)"
      ]
    },
    {
      "cell_type": "code",
      "execution_count": null,
      "metadata": {
        "colab": {
          "base_uri": "https://localhost:8080/"
        },
        "id": "j1eSZsDJiYXg",
        "outputId": "69f6a852-adde-4520-d12f-3117be245c62"
      },
      "outputs": [
        {
          "output_type": "stream",
          "name": "stdout",
          "text": [
            "0.9851851851851852\n"
          ]
        }
      ],
      "source": [
        "print(cv.score(X_test,y_test))"
      ]
    },
    {
      "cell_type": "code",
      "execution_count": null,
      "metadata": {
        "colab": {
          "base_uri": "https://localhost:8080/"
        },
        "id": "8n23WF_-ieJI",
        "outputId": "98227143-93bf-4812-a2d7-5b231e981d1c"
      },
      "outputs": [
        {
          "output_type": "stream",
          "name": "stdout",
          "text": [
            "              precision    recall  f1-score   support\n",
            "\n",
            "           0       1.00      1.00      1.00        49\n",
            "           1       0.96      1.00      0.98        54\n",
            "           2       1.00      1.00      1.00        61\n",
            "           3       1.00      0.95      0.97        55\n",
            "           4       0.98      1.00      0.99        58\n",
            "           5       1.00      1.00      1.00        51\n",
            "           6       1.00      1.00      1.00        57\n",
            "           7       0.98      0.98      0.98        52\n",
            "           8       0.94      0.96      0.95        51\n",
            "           9       0.98      0.96      0.97        52\n",
            "\n",
            "    accuracy                           0.99       540\n",
            "   macro avg       0.99      0.98      0.98       540\n",
            "weighted avg       0.99      0.99      0.99       540\n",
            "\n"
          ]
        }
      ],
      "source": [
        "print(classification_report(y_test,y_pred))"
      ]
    },
    {
      "cell_type": "code",
      "source": [
        "confusion = confusion_matrix(y_test, y_pred)\n",
        "confusion"
      ],
      "metadata": {
        "colab": {
          "base_uri": "https://localhost:8080/"
        },
        "id": "krOUvRsi78Dq",
        "outputId": "2ebc5124-613c-4c99-9f86-bb9343901c68"
      },
      "execution_count": null,
      "outputs": [
        {
          "output_type": "execute_result",
          "data": {
            "text/plain": [
              "array([[49,  0,  0,  0,  0,  0,  0,  0,  0,  0],\n",
              "       [ 0, 54,  0,  0,  0,  0,  0,  0,  0,  0],\n",
              "       [ 0,  0, 61,  0,  0,  0,  0,  0,  0,  0],\n",
              "       [ 0,  0,  0, 52,  0,  0,  0,  1,  2,  0],\n",
              "       [ 0,  0,  0,  0, 58,  0,  0,  0,  0,  0],\n",
              "       [ 0,  0,  0,  0,  0, 51,  0,  0,  0,  0],\n",
              "       [ 0,  0,  0,  0,  0,  0, 57,  0,  0,  0],\n",
              "       [ 0,  0,  0,  0,  0,  0,  0, 51,  0,  1],\n",
              "       [ 0,  2,  0,  0,  0,  0,  0,  0, 49,  0],\n",
              "       [ 0,  0,  0,  0,  1,  0,  0,  0,  1, 50]])"
            ]
          },
          "metadata": {},
          "execution_count": 117
        }
      ]
    }
  ],
  "metadata": {
    "colab": {
      "name": "Digits Dataset.ipynb",
      "provenance": [],
      "collapsed_sections": []
    },
    "kernelspec": {
      "display_name": "Python 3",
      "name": "python3"
    },
    "language_info": {
      "name": "python"
    }
  },
  "nbformat": 4,
  "nbformat_minor": 0
}