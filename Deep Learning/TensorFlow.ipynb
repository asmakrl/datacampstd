{
  "nbformat": 4,
  "nbformat_minor": 0,
  "metadata": {
    "colab": {
      "name": "TensorFlow.ipynb",
      "provenance": [],
      "collapsed_sections": []
    },
    "kernelspec": {
      "name": "python3",
      "display_name": "Python 3"
    },
    "language_info": {
      "name": "python"
    }
  },
  "cells": [
    {
      "cell_type": "markdown",
      "source": [
        "You can find the article Here: https://www.datainsightonline.com/post/deep-learning-with-baby-steps-the-mathematical-background-behind-tensorflow"
      ],
      "metadata": {
        "id": "YCAGSptClIFY"
      }
    },
    {
      "cell_type": "code",
      "execution_count": null,
      "metadata": {
        "id": "RAOJ3aVJtJLV"
      },
      "outputs": [],
      "source": [
        "import tensorflow as tf\n",
        "import numpy as np\n",
        "import pandas as pd\n",
        "import matplotlib.pyplot as plt"
      ]
    },
    {
      "cell_type": "code",
      "source": [
        "#2*3 constant\n",
        "x = tf.constant(3 , shape=[2,3])\n",
        "print(x)"
      ],
      "metadata": {
        "colab": {
          "base_uri": "https://localhost:8080/"
        },
        "id": "97hqMrsiyMAq",
        "outputId": "d65e78b7-6c0a-4625-dc6a-8e2fc12cd039"
      },
      "execution_count": null,
      "outputs": [
        {
          "output_type": "stream",
          "name": "stdout",
          "text": [
            "tf.Tensor(\n",
            "[[3 3 3]\n",
            " [3 3 3]], shape=(2, 3), dtype=int32)\n"
          ]
        }
      ]
    },
    {
      "cell_type": "code",
      "source": [
        "y = tf.Variable ([1,2,3,4,5,6], dtype=tf.float32)\n",
        "y"
      ],
      "metadata": {
        "colab": {
          "base_uri": "https://localhost:8080/"
        },
        "id": "qv9xX2rx7AWd",
        "outputId": "ce98124a-794d-4d60-b22c-387750c138a8"
      },
      "execution_count": null,
      "outputs": [
        {
          "output_type": "execute_result",
          "data": {
            "text/plain": [
              "<tf.Variable 'Variable:0' shape=(6,) dtype=float32, numpy=array([1., 2., 3., 4., 5., 6.], dtype=float32)>"
            ]
          },
          "metadata": {},
          "execution_count": 3
        }
      ]
    },
    {
      "cell_type": "code",
      "source": [
        "a=tf.constant(10, dtype='float32')\n",
        "b = tf.Variable(a*10)\n",
        "c = a*b\n",
        "print(c)"
      ],
      "metadata": {
        "colab": {
          "base_uri": "https://localhost:8080/"
        },
        "id": "GQfM-31J0IEM",
        "outputId": "1318f000-3bd1-4828-fb9e-1f26fcf6f8f2"
      },
      "execution_count": null,
      "outputs": [
        {
          "output_type": "stream",
          "name": "stdout",
          "text": [
            "tf.Tensor(1000.0, shape=(), dtype=float32)\n"
          ]
        }
      ]
    },
    {
      "cell_type": "code",
      "source": [
        "#define a 0dimension tesnsor\n",
        "a0 = tf.constant([1])\n",
        "b0 = tf.constant([2])\n",
        "\n",
        "#define a 1 dimension tensor\n",
        "a1 = tf.constant([1,2])\n",
        "b1 = tf.constant([3,4])\n",
        "\n",
        "#define a 2 dimension tensor\n",
        "a2 = tf.constant([[1,2],[3,4]])\n",
        "b2 = tf.constant([[5,6],[7,8]])"
      ],
      "metadata": {
        "id": "qxtztFWuC8yz"
      },
      "execution_count": null,
      "outputs": []
    },
    {
      "cell_type": "code",
      "source": [
        "#scalar addition\n",
        "c0 = tf.add(a0,b0)\n",
        "c0"
      ],
      "metadata": {
        "colab": {
          "base_uri": "https://localhost:8080/"
        },
        "id": "xTdd2PlQDxDq",
        "outputId": "0581052a-77af-4ffd-9c0a-eb4620f636cb"
      },
      "execution_count": null,
      "outputs": [
        {
          "output_type": "execute_result",
          "data": {
            "text/plain": [
              "<tf.Tensor: shape=(1,), dtype=int32, numpy=array([3], dtype=int32)>"
            ]
          },
          "metadata": {},
          "execution_count": 6
        }
      ]
    },
    {
      "cell_type": "code",
      "source": [
        "#vector addition\n",
        "c1 = tf.add(a1,b1)\n",
        "c1"
      ],
      "metadata": {
        "colab": {
          "base_uri": "https://localhost:8080/"
        },
        "id": "fcJQInXGEBu-",
        "outputId": "4c3eecdb-c301-4b7b-d46b-9b0d348d8424"
      },
      "execution_count": null,
      "outputs": [
        {
          "output_type": "execute_result",
          "data": {
            "text/plain": [
              "<tf.Tensor: shape=(2,), dtype=int32, numpy=array([4, 6], dtype=int32)>"
            ]
          },
          "metadata": {},
          "execution_count": 7
        }
      ]
    },
    {
      "cell_type": "code",
      "source": [
        "#matrix addition\n",
        "c2 = tf.add(a2,b2)\n",
        "c2"
      ],
      "metadata": {
        "colab": {
          "base_uri": "https://localhost:8080/"
        },
        "id": "D0Rkb3r7EJrp",
        "outputId": "6175e749-0ebf-48b5-8b01-00dc9c1b0421"
      },
      "execution_count": null,
      "outputs": [
        {
          "output_type": "execute_result",
          "data": {
            "text/plain": [
              "<tf.Tensor: shape=(2, 2), dtype=int32, numpy=\n",
              "array([[ 6,  8],\n",
              "       [10, 12]], dtype=int32)>"
            ]
          },
          "metadata": {},
          "execution_count": 8
        }
      ]
    },
    {
      "cell_type": "code",
      "source": [
        "#fixed tensor\n",
        "o = tf.ones([2,3])\n",
        "o"
      ],
      "metadata": {
        "colab": {
          "base_uri": "https://localhost:8080/"
        },
        "id": "1RcvTAoqOv3O",
        "outputId": "0e83042f-e6bc-4a98-fac9-5cbc51fb75fe"
      },
      "execution_count": null,
      "outputs": [
        {
          "output_type": "execute_result",
          "data": {
            "text/plain": [
              "<tf.Tensor: shape=(2, 3), dtype=float32, numpy=\n",
              "array([[1., 1., 1.],\n",
              "       [1., 1., 1.]], dtype=float32)>"
            ]
          },
          "metadata": {},
          "execution_count": 9
        }
      ]
    },
    {
      "cell_type": "code",
      "source": [
        "#matrix multiplicatio\n",
        "a0 = tf.ones(1)\n",
        "a31 = tf.ones([4,5])\n",
        "a34 = tf.ones([2,4])\n",
        "a43 = tf.ones([4,2])"
      ],
      "metadata": {
        "id": "YhRj9ctUMqXn"
      },
      "execution_count": null,
      "outputs": []
    },
    {
      "cell_type": "code",
      "source": [
        "m1 = tf.multiply(a0,a0)\n",
        "m1"
      ],
      "metadata": {
        "colab": {
          "base_uri": "https://localhost:8080/"
        },
        "id": "5GRZcHHDOUMN",
        "outputId": "44ec5296-2306-4a60-b1a5-937419e5b7a7"
      },
      "execution_count": null,
      "outputs": [
        {
          "output_type": "execute_result",
          "data": {
            "text/plain": [
              "<tf.Tensor: shape=(1,), dtype=float32, numpy=array([1.], dtype=float32)>"
            ]
          },
          "metadata": {},
          "execution_count": 11
        }
      ]
    },
    {
      "cell_type": "code",
      "source": [
        "m2 = tf.matmul(a43,a34)\n",
        "m2"
      ],
      "metadata": {
        "colab": {
          "base_uri": "https://localhost:8080/"
        },
        "id": "p4g1vQAwOd69",
        "outputId": "124afc20-8921-49ba-96af-d61689f81d70"
      },
      "execution_count": null,
      "outputs": [
        {
          "output_type": "execute_result",
          "data": {
            "text/plain": [
              "<tf.Tensor: shape=(4, 4), dtype=float32, numpy=\n",
              "array([[2., 2., 2., 2.],\n",
              "       [2., 2., 2., 2.],\n",
              "       [2., 2., 2., 2.],\n",
              "       [2., 2., 2., 2.]], dtype=float32)>"
            ]
          },
          "metadata": {},
          "execution_count": 12
        }
      ]
    },
    {
      "cell_type": "code",
      "source": [
        "#gradient\n",
        "def compute_gradient(x0):\n",
        "  \t# Define x as a variable with an initial value of x0\n",
        "\tx = tf.Variable(x0)\n",
        "\twith tf.GradientTape() as tape:\n",
        "\t\ttape.watch(x)\n",
        "    # Define y using the multiply operation\n",
        "\t\ty = x*x\n",
        "    # Return the gradient of y with respect to x\n",
        "\treturn tape.gradient(y, x).numpy()\n",
        "\n",
        "# Compute and print gradients at x = -1, 1, and 0\n",
        "print(compute_gradient(-1.0))\n",
        "print(compute_gradient(1.0))\n",
        "print(compute_gradient(0.0))"
      ],
      "metadata": {
        "colab": {
          "base_uri": "https://localhost:8080/"
        },
        "id": "GNTHO9NnO-9U",
        "outputId": "c0f6e457-99b8-4cc7-bdc0-21ece61d03ab"
      },
      "execution_count": null,
      "outputs": [
        {
          "output_type": "stream",
          "name": "stdout",
          "text": [
            "-2.0\n",
            "2.0\n",
            "0.0\n"
          ]
        }
      ]
    },
    {
      "cell_type": "code",
      "source": [
        "gray = tf.random.uniform([2,2], maxval=255, dtype='int32')\n",
        "gray"
      ],
      "metadata": {
        "colab": {
          "base_uri": "https://localhost:8080/"
        },
        "id": "kobuVy61wdyg",
        "outputId": "6c81ec63-6974-4aa4-9cad-39c415693c9b"
      },
      "execution_count": null,
      "outputs": [
        {
          "output_type": "execute_result",
          "data": {
            "text/plain": [
              "<tf.Tensor: shape=(2, 2), dtype=int32, numpy=\n",
              "array([[ 51,  55],\n",
              "       [ 50, 120]], dtype=int32)>"
            ]
          },
          "metadata": {},
          "execution_count": 15
        }
      ]
    },
    {
      "cell_type": "code",
      "source": [
        "gray = tf.reshape(gray,[2*2,1])\n",
        "gray"
      ],
      "metadata": {
        "colab": {
          "base_uri": "https://localhost:8080/"
        },
        "id": "x54vL7I5wxb4",
        "outputId": "9f7fefb3-de44-4a3f-9730-4d118a55b838"
      },
      "execution_count": null,
      "outputs": [
        {
          "output_type": "execute_result",
          "data": {
            "text/plain": [
              "<tf.Tensor: shape=(4, 1), dtype=int32, numpy=\n",
              "array([[ 51],\n",
              "       [ 55],\n",
              "       [ 50],\n",
              "       [120]], dtype=int32)>"
            ]
          },
          "metadata": {},
          "execution_count": 16
        }
      ]
    },
    {
      "cell_type": "code",
      "source": [
        "color = tf.random.uniform([2,2,3], maxval=255, dtype='int32')\n",
        "color"
      ],
      "metadata": {
        "colab": {
          "base_uri": "https://localhost:8080/"
        },
        "id": "XgObdNEdw6zl",
        "outputId": "7a7ba234-2ec1-4974-ba1e-4c642728f64d"
      },
      "execution_count": null,
      "outputs": [
        {
          "output_type": "execute_result",
          "data": {
            "text/plain": [
              "<tf.Tensor: shape=(2, 2, 3), dtype=int32, numpy=\n",
              "array([[[122, 131, 175],\n",
              "        [194, 160, 130]],\n",
              "\n",
              "       [[166,  35, 103],\n",
              "        [ 69,  68, 204]]], dtype=int32)>"
            ]
          },
          "metadata": {},
          "execution_count": 17
        }
      ]
    },
    {
      "cell_type": "code",
      "source": [
        "color = tf.reshape(color, [2*2,3])\n",
        "color"
      ],
      "metadata": {
        "colab": {
          "base_uri": "https://localhost:8080/"
        },
        "id": "HeWQcxqFxFfw",
        "outputId": "08012890-8bd8-44a7-ea5b-fe27a0b1e36c"
      },
      "execution_count": null,
      "outputs": [
        {
          "output_type": "execute_result",
          "data": {
            "text/plain": [
              "<tf.Tensor: shape=(4, 3), dtype=int32, numpy=\n",
              "array([[122, 131, 175],\n",
              "       [194, 160, 130],\n",
              "       [166,  35, 103],\n",
              "       [ 69,  68, 204]], dtype=int32)>"
            ]
          },
          "metadata": {},
          "execution_count": 18
        }
      ]
    },
    {
      "cell_type": "code",
      "source": [
        "df=pd.read_csv('https://bit.ly/w-data')\n",
        "df.head()"
      ],
      "metadata": {
        "colab": {
          "base_uri": "https://localhost:8080/",
          "height": 206
        },
        "id": "OO-V1_Qb2w_W",
        "outputId": "e33bef45-812a-422f-e03d-5a95e1ccb3a5"
      },
      "execution_count": null,
      "outputs": [
        {
          "output_type": "execute_result",
          "data": {
            "text/plain": [
              "   Hours  Scores\n",
              "0    2.5      21\n",
              "1    5.1      47\n",
              "2    3.2      27\n",
              "3    8.5      75\n",
              "4    3.5      30"
            ],
            "text/html": [
              "\n",
              "  <div id=\"df-2f5766b2-2f34-44e7-85e5-d9c493fdfbc7\">\n",
              "    <div class=\"colab-df-container\">\n",
              "      <div>\n",
              "<style scoped>\n",
              "    .dataframe tbody tr th:only-of-type {\n",
              "        vertical-align: middle;\n",
              "    }\n",
              "\n",
              "    .dataframe tbody tr th {\n",
              "        vertical-align: top;\n",
              "    }\n",
              "\n",
              "    .dataframe thead th {\n",
              "        text-align: right;\n",
              "    }\n",
              "</style>\n",
              "<table border=\"1\" class=\"dataframe\">\n",
              "  <thead>\n",
              "    <tr style=\"text-align: right;\">\n",
              "      <th></th>\n",
              "      <th>Hours</th>\n",
              "      <th>Scores</th>\n",
              "    </tr>\n",
              "  </thead>\n",
              "  <tbody>\n",
              "    <tr>\n",
              "      <th>0</th>\n",
              "      <td>2.5</td>\n",
              "      <td>21</td>\n",
              "    </tr>\n",
              "    <tr>\n",
              "      <th>1</th>\n",
              "      <td>5.1</td>\n",
              "      <td>47</td>\n",
              "    </tr>\n",
              "    <tr>\n",
              "      <th>2</th>\n",
              "      <td>3.2</td>\n",
              "      <td>27</td>\n",
              "    </tr>\n",
              "    <tr>\n",
              "      <th>3</th>\n",
              "      <td>8.5</td>\n",
              "      <td>75</td>\n",
              "    </tr>\n",
              "    <tr>\n",
              "      <th>4</th>\n",
              "      <td>3.5</td>\n",
              "      <td>30</td>\n",
              "    </tr>\n",
              "  </tbody>\n",
              "</table>\n",
              "</div>\n",
              "      <button class=\"colab-df-convert\" onclick=\"convertToInteractive('df-2f5766b2-2f34-44e7-85e5-d9c493fdfbc7')\"\n",
              "              title=\"Convert this dataframe to an interactive table.\"\n",
              "              style=\"display:none;\">\n",
              "        \n",
              "  <svg xmlns=\"http://www.w3.org/2000/svg\" height=\"24px\"viewBox=\"0 0 24 24\"\n",
              "       width=\"24px\">\n",
              "    <path d=\"M0 0h24v24H0V0z\" fill=\"none\"/>\n",
              "    <path d=\"M18.56 5.44l.94 2.06.94-2.06 2.06-.94-2.06-.94-.94-2.06-.94 2.06-2.06.94zm-11 1L8.5 8.5l.94-2.06 2.06-.94-2.06-.94L8.5 2.5l-.94 2.06-2.06.94zm10 10l.94 2.06.94-2.06 2.06-.94-2.06-.94-.94-2.06-.94 2.06-2.06.94z\"/><path d=\"M17.41 7.96l-1.37-1.37c-.4-.4-.92-.59-1.43-.59-.52 0-1.04.2-1.43.59L10.3 9.45l-7.72 7.72c-.78.78-.78 2.05 0 2.83L4 21.41c.39.39.9.59 1.41.59.51 0 1.02-.2 1.41-.59l7.78-7.78 2.81-2.81c.8-.78.8-2.07 0-2.86zM5.41 20L4 18.59l7.72-7.72 1.47 1.35L5.41 20z\"/>\n",
              "  </svg>\n",
              "      </button>\n",
              "      \n",
              "  <style>\n",
              "    .colab-df-container {\n",
              "      display:flex;\n",
              "      flex-wrap:wrap;\n",
              "      gap: 12px;\n",
              "    }\n",
              "\n",
              "    .colab-df-convert {\n",
              "      background-color: #E8F0FE;\n",
              "      border: none;\n",
              "      border-radius: 50%;\n",
              "      cursor: pointer;\n",
              "      display: none;\n",
              "      fill: #1967D2;\n",
              "      height: 32px;\n",
              "      padding: 0 0 0 0;\n",
              "      width: 32px;\n",
              "    }\n",
              "\n",
              "    .colab-df-convert:hover {\n",
              "      background-color: #E2EBFA;\n",
              "      box-shadow: 0px 1px 2px rgba(60, 64, 67, 0.3), 0px 1px 3px 1px rgba(60, 64, 67, 0.15);\n",
              "      fill: #174EA6;\n",
              "    }\n",
              "\n",
              "    [theme=dark] .colab-df-convert {\n",
              "      background-color: #3B4455;\n",
              "      fill: #D2E3FC;\n",
              "    }\n",
              "\n",
              "    [theme=dark] .colab-df-convert:hover {\n",
              "      background-color: #434B5C;\n",
              "      box-shadow: 0px 1px 3px 1px rgba(0, 0, 0, 0.15);\n",
              "      filter: drop-shadow(0px 1px 2px rgba(0, 0, 0, 0.3));\n",
              "      fill: #FFFFFF;\n",
              "    }\n",
              "  </style>\n",
              "\n",
              "      <script>\n",
              "        const buttonEl =\n",
              "          document.querySelector('#df-2f5766b2-2f34-44e7-85e5-d9c493fdfbc7 button.colab-df-convert');\n",
              "        buttonEl.style.display =\n",
              "          google.colab.kernel.accessAllowed ? 'block' : 'none';\n",
              "\n",
              "        async function convertToInteractive(key) {\n",
              "          const element = document.querySelector('#df-2f5766b2-2f34-44e7-85e5-d9c493fdfbc7');\n",
              "          const dataTable =\n",
              "            await google.colab.kernel.invokeFunction('convertToInteractive',\n",
              "                                                     [key], {});\n",
              "          if (!dataTable) return;\n",
              "\n",
              "          const docLinkHtml = 'Like what you see? Visit the ' +\n",
              "            '<a target=\"_blank\" href=https://colab.research.google.com/notebooks/data_table.ipynb>data table notebook</a>'\n",
              "            + ' to learn more about interactive tables.';\n",
              "          element.innerHTML = '';\n",
              "          dataTable['output_type'] = 'display_data';\n",
              "          await google.colab.output.renderOutput(dataTable, element);\n",
              "          const docLink = document.createElement('div');\n",
              "          docLink.innerHTML = docLinkHtml;\n",
              "          element.appendChild(docLink);\n",
              "        }\n",
              "      </script>\n",
              "    </div>\n",
              "  </div>\n",
              "  "
            ]
          },
          "metadata": {},
          "execution_count": 34
        }
      ]
    },
    {
      "cell_type": "code",
      "source": [
        "plt.scatter(x='Hours',y='Scores', data=df)\n",
        "plt.show()"
      ],
      "metadata": {
        "colab": {
          "base_uri": "https://localhost:8080/",
          "height": 265
        },
        "id": "gAebgxaL48QD",
        "outputId": "ad03e26b-8ecb-405d-da93-5212c7f59f2a"
      },
      "execution_count": null,
      "outputs": [
        {
          "output_type": "display_data",
          "data": {
            "text/plain": [
              "<Figure size 432x288 with 1 Axes>"
            ],
            "image/png": "[encoded data removed]"
          },
          "metadata": {
            "needs_background": "light"
          }
        }
      ]
    },
    {
      "cell_type": "code",
      "source": [
        "hours = tf.cast(df['Hours'], tf.float32)\n",
        "scores = tf.cast(df['Scores'], tf.float32)\n",
        "hours"
      ],
      "metadata": {
        "id": "AQKdTsID3Iqq",
        "colab": {
          "base_uri": "https://localhost:8080/"
        },
        "outputId": "ee93885c-9e97-4d8e-b076-5e22ee23321c"
      },
      "execution_count": null,
      "outputs": [
        {
          "output_type": "execute_result",
          "data": {
            "text/plain": [
              "<tf.Tensor: shape=(25,), dtype=float32, numpy=\n",
              "array([2.5, 5.1, 3.2, 8.5, 3.5, 1.5, 9.2, 5.5, 8.3, 2.7, 7.7, 5.9, 4.5,\n",
              "       3.3, 1.1, 8.9, 2.5, 1.9, 6.1, 7.4, 2.7, 4.8, 3.8, 6.9, 7.8],\n",
              "      dtype=float32)>"
            ]
          },
          "metadata": {},
          "execution_count": 37
        }
      ]
    },
    {
      "cell_type": "code",
      "source": [
        "# Define a linear regression model\n",
        "def linear_regression(intercept, slope, features = hours):\n",
        "\treturn intercept+features*slope\n",
        "\n",
        "# Set loss_function() to take the variables as arguments\n",
        "def loss_function(intercept, slope, features = hours, targets = scores):\n",
        "\t# Set the predicted values\n",
        "\tpredictions = linear_regression(intercept, slope, features)\n",
        "    \n",
        "    # Return the mean squared error loss\n",
        "\treturn tf.keras.losses.mse(scores, predictions)/100\n",
        "\n",
        "# Compute the loss for different slope and intercept values\n",
        "print(loss_function(0.5,8).numpy())\n",
        "print(loss_function(1.2,10.06).numpy())"
      ],
      "metadata": {
        "colab": {
          "base_uri": "https://localhost:8080/"
        },
        "id": "DG3mUSDi33kr",
        "outputId": "129f84eb-d208-41b6-d361-d80b6fe8f4a4"
      },
      "execution_count": null,
      "outputs": [
        {
          "output_type": "stream",
          "name": "stdout",
          "text": [
            "1.6664679\n",
            "0.29396924\n"
          ]
        }
      ]
    },
    {
      "cell_type": "code",
      "source": [
        "intercept =tf.Variable([1.], np.float32)\n",
        "slope = tf.Variable([10.], np.float32)"
      ],
      "metadata": {
        "id": "q84ojZU_5nva"
      },
      "execution_count": null,
      "outputs": []
    },
    {
      "cell_type": "code",
      "source": [
        "# Define a linear regression model\n",
        "def linear_regression(intercept, slope, features = hours):\n",
        "\treturn intercept+features*slope\n",
        "# Set loss_function() to take the variables as arguments\n",
        "def loss_function(intercept, slope, features = hours, targets = scores):\n",
        "\t# Set the predicted values\n",
        "\tpredictions = linear_regression(intercept, slope, features)\n",
        "    \n",
        "    # Return the mean squared error loss\n",
        "\treturn tf.keras.losses.mse(targets, predictions)"
      ],
      "metadata": {
        "id": "T6g1nnQf5-Bb"
      },
      "execution_count": null,
      "outputs": []
    },
    {
      "cell_type": "code",
      "source": [
        "opt = tf.keras.optimizers.Adam(0.5)"
      ],
      "metadata": {
        "id": "aiPtromI6qSg"
      },
      "execution_count": null,
      "outputs": []
    },
    {
      "cell_type": "code",
      "source": [
        "for i in range(100):\n",
        "  opt.minimize(lambda: loss_function(intercept,slope), var_list=[intercept,slope])\n",
        "  if i % 10 == 0:\n",
        "    print(loss_function(intercept,slope))"
      ],
      "metadata": {
        "colab": {
          "base_uri": "https://localhost:8080/"
        },
        "id": "tVFzdfkP67wU",
        "outputId": "8fc50520-4c7b-4540-df9e-71775cd8f3da"
      },
      "execution_count": null,
      "outputs": [
        {
          "output_type": "stream",
          "name": "stdout",
          "text": [
            "tf.Tensor(39.09423, shape=(), dtype=float32)\n",
            "tf.Tensor(30.12893, shape=(), dtype=float32)\n",
            "tf.Tensor(29.732178, shape=(), dtype=float32)\n",
            "tf.Tensor(29.052313, shape=(), dtype=float32)\n",
            "tf.Tensor(28.905817, shape=(), dtype=float32)\n",
            "tf.Tensor(28.888535, shape=(), dtype=float32)\n",
            "tf.Tensor(28.886223, shape=(), dtype=float32)\n",
            "tf.Tensor(28.886658, shape=(), dtype=float32)\n",
            "tf.Tensor(28.884825, shape=(), dtype=float32)\n",
            "tf.Tensor(28.882883, shape=(), dtype=float32)\n"
          ]
        }
      ]
    },
    {
      "cell_type": "code",
      "source": [
        "print(intercept.numpy(), slope.numpy())"
      ],
      "metadata": {
        "colab": {
          "base_uri": "https://localhost:8080/"
        },
        "id": "zeRyuBwNeIpe",
        "outputId": "53523787-1b54-402d-b033-37ecb5149da5"
      },
      "execution_count": null,
      "outputs": [
        {
          "output_type": "stream",
          "name": "stdout",
          "text": [
            "[2.4898534] [9.774894]\n"
          ]
        }
      ]
    }
  ]
}