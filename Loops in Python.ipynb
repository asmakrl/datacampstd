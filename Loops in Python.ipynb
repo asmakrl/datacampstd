{
 "cells": [
  {
   "cell_type": "markdown",
   "id": "3ef2e2d3",
   "metadata": {},
   "source": [
    "# While loop Examples"
   ]
  },
  {
   "cell_type": "code",
   "execution_count": 1,
   "id": "173f2943",
   "metadata": {},
   "outputs": [
    {
     "name": "stdout",
     "output_type": "stream",
     "text": [
      "1\n",
      "2\n",
      "3\n",
      "4\n",
      "5\n",
      "6\n"
     ]
    }
   ],
   "source": [
    "#example01\n",
    "\n",
    "i=1\n",
    "while i<7: \n",
    "    print(i)\n",
    "    i+=1"
   ]
  },
  {
   "cell_type": "code",
   "execution_count": 8,
   "id": "b025fbb2",
   "metadata": {},
   "outputs": [
    {
     "name": "stdout",
     "output_type": "stream",
     "text": [
      "number: 10\n",
      "square: 100\n",
      "number: 24\n",
      "square: 576\n",
      "number: 22\n",
      "square: 484\n",
      "number: 8\n",
      "square: 64\n",
      "done\n"
     ]
    }
   ],
   "source": [
    "#example02\n",
    "num = 0\n",
    "i=0\n",
    "while i<4:\n",
    "    num=int(input('number: '))\n",
    "    sq=str(num*num)\n",
    "    print(\"square: \"+ sq)\n",
    "    i+=1\n",
    "else:\n",
    "    print(\"done\")"
   ]
  },
  {
   "cell_type": "code",
   "execution_count": 9,
   "id": "78dae84f",
   "metadata": {},
   "outputs": [
    {
     "name": "stdout",
     "output_type": "stream",
     "text": [
      "[1, 4, 56, 2, 4, 12, 6, 89, 11]\n",
      "[1, 4, 56, 2, 4, 12, 6, 89]\n",
      "[1, 4, 56, 2, 4, 12, 6]\n",
      "[1, 4, 56, 2, 4, 12]\n",
      "[1, 4, 56, 2, 4]\n",
      "[1, 4, 56, 2]\n",
      "[1, 4, 56]\n",
      "[1, 4]\n",
      "[1]\n",
      "[]\n",
      "print the empty list:[]\n"
     ]
    }
   ],
   "source": [
    "#exmample 03\n",
    "### clear the list without using list.clear() method\n",
    "lst = [ 1, 4, 56, 2, 4 , 12,  6, 89 ,11, 0]\n",
    "i=len(lst)-1\n",
    "while i>=0:\n",
    "  lst1=lst.pop()\n",
    "  print(lst)\n",
    "  i-=1\n",
    "else:\n",
    "  print(\"print the empty list:\" +str(lst))"
   ]
  },
  {
   "cell_type": "markdown",
   "id": "5faed229",
   "metadata": {},
   "source": [
    "# For loop Examples"
   ]
  },
  {
   "cell_type": "code",
   "execution_count": 11,
   "id": "3ac9a339",
   "metadata": {},
   "outputs": [
    {
     "name": "stdout",
     "output_type": "stream",
     "text": [
      "lemon\n",
      "cherry\n",
      "banana\n"
     ]
    }
   ],
   "source": [
    "#example 01\n",
    "fruit=[\"lemon\",\"cherry\", \"banana\"]\n",
    "for x in fruit:\n",
    "    print(x)"
   ]
  },
  {
   "cell_type": "code",
   "execution_count": 13,
   "id": "e8a091d8",
   "metadata": {},
   "outputs": [
    {
     "name": "stdout",
     "output_type": "stream",
     "text": [
      "0\n",
      "1\n",
      "2\n",
      "3\n",
      "4\n",
      "5\n",
      "6\n"
     ]
    }
   ],
   "source": [
    "#example02:with range function:range()\n",
    "for x in range(7) :\n",
    "    print(x)"
   ]
  },
  {
   "cell_type": "code",
   "execution_count": 15,
   "id": "14b22070",
   "metadata": {},
   "outputs": [
    {
     "name": "stdout",
     "output_type": "stream",
     "text": [
      "2\n",
      "5\n",
      "8\n",
      "11\n",
      "14\n",
      "17\n",
      "20\n",
      "23\n",
      "26\n",
      "29\n",
      "finally completed\n"
     ]
    }
   ],
   "source": [
    "#example02:with range function:range(start,end,incrementation)\n",
    "for x in range(2,30,3):\n",
    "    print(x)\n",
    "else :\n",
    "    print(\"finally completed\")"
   ]
  },
  {
   "cell_type": "code",
   "execution_count": 32,
   "id": "ff78a672",
   "metadata": {},
   "outputs": [
    {
     "name": "stdout",
     "output_type": "stream",
     "text": [
      "[1, 3, 6, 7]\n"
     ]
    }
   ],
   "source": [
    "#example 03\n",
    "# Use for loop to create uniques list and print it!\n",
    "\n",
    "a_list = [1, 3, 6, 1, 7, 6]\n",
    "\n",
    "without_duplicates = []\n",
    "for element in a_list:\n",
    "   if element not in without_duplicates:\n",
    "       without_duplicates.append(element)\n",
    "\n",
    "print(without_duplicates)"
   ]
  }
 ],
 "metadata": {
  "kernelspec": {
   "display_name": "Python 3",
   "language": "python",
   "name": "python3"
  },
  "language_info": {
   "codemirror_mode": {
    "name": "ipython",
    "version": 3
   },
   "file_extension": ".py",
   "mimetype": "text/x-python",
   "name": "python",
   "nbconvert_exporter": "python",
   "pygments_lexer": "ipython3",
   "version": "3.8.8"
  }
 },
 "nbformat": 4,
 "nbformat_minor": 5
}
