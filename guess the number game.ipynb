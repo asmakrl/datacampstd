{
 "cells": [
  {
   "cell_type": "code",
   "execution_count": null,
   "id": "af2c4d7d",
   "metadata": {},
   "outputs": [],
   "source": [
    "#we need to generte randome numbers wo first we need to import random\n",
    "import random\n",
    "\n",
    "#Now we have to initialize a max variable.\n",
    "max = 30\n",
    "\n",
    "#Now it's time we generate our random number which the player has to find.\n",
    "random_number = random.randint(1, max)\n",
    "number = 0\n",
    "while number != random_number:\n",
    "    number = int(input(f\"Guess the number between 1 & {max}: \"))\n",
    "    if number < random_number:\n",
    "        print(\"Wrong! Too low...\")\n",
    "    elif number > random_number:\n",
    "        print(\"Wrong! Too high...\")\n",
    "print(f\"Thats Right! Random number is {random_number}\")"
   ]
  }
 ],
 "metadata": {
  "kernelspec": {
   "display_name": "Python 3",
   "language": "python",
   "name": "python3"
  },
  "language_info": {
   "codemirror_mode": {
    "name": "ipython",
    "version": 3
   },
   "file_extension": ".py",
   "mimetype": "text/x-python",
   "name": "python",
   "nbconvert_exporter": "python",
   "pygments_lexer": "ipython3",
   "version": "3.8.8"
  }
 },
 "nbformat": 4,
 "nbformat_minor": 5
}
