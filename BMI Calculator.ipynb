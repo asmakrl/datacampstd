{
 "cells": [
  {
   "cell_type": "code",
   "execution_count": 1,
   "id": "79cdd567",
   "metadata": {},
   "outputs": [
    {
     "name": "stdout",
     "output_type": "stream",
     "text": [
      "enter your height in cm: 178\n",
      "enter your weight in kg: 68\n",
      "your BMI is: 21.461936624163616\n",
      "You have a normal weight.\n"
     ]
    }
   ],
   "source": [
    "#the first thing we need to do is to ask the user their height & weight\n",
    "height = float(input(\"enter your height in cm: \"))\n",
    "weight = float(input(\"enter your weight in kg: \"))\n",
    "\n",
    "#next we have to calculate the BMI, we devide the height by 100 so it can be inmeters to ease up calculation\n",
    "BMI = weight /(height/100)**2\n",
    "\n",
    "#now we print the BMI\n",
    "print(f\"your BMI is: {BMI}\")\n",
    "\n",
    "#Now we have to print a statement to state the current health of the user based on their BMI\n",
    "if BMI <= 18.4 :\n",
    "    print(\"You are underweight.\")\n",
    "elif BMI <= 24.9 :\n",
    "    print (\"You have a normal weight.\")\n",
    "elif BMI <= 29.9 :\n",
    "    print (\"You are overweight.\")\n",
    "elif BMI <= 34.9 :\n",
    "    print(\"You are severly overweight.\")\n",
    "elif BMI <= 39.9 :\n",
    "    print(\"You are obese\")\n",
    "else :\n",
    "    print(\"You are severly obese\")"
   ]
  },
  {
   "cell_type": "code",
   "execution_count": null,
   "id": "aced7aec",
   "metadata": {},
   "outputs": [],
   "source": []
  }
 ],
 "metadata": {
  "kernelspec": {
   "display_name": "Python 3",
   "language": "python",
   "name": "python3"
  },
  "language_info": {
   "codemirror_mode": {
    "name": "ipython",
    "version": 3
   },
   "file_extension": ".py",
   "mimetype": "text/x-python",
   "name": "python",
   "nbconvert_exporter": "python",
   "pygments_lexer": "ipython3",
   "version": "3.8.8"
  }
 },
 "nbformat": 4,
 "nbformat_minor": 5
}
